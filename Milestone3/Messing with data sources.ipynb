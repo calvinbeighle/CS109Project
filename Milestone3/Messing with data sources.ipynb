{
 "cells": [
  {
   "cell_type": "code",
   "execution_count": 1,
   "id": "f4450061",
   "metadata": {},
   "outputs": [],
   "source": [
    "import pandas as pd\n",
    "import matplotlib.pyplot as plt\n",
    "import numpy as np"
   ]
  },
  {
   "cell_type": "code",
   "execution_count": 2,
   "id": "f2647cc5",
   "metadata": {},
   "outputs": [
    {
     "ename": "NameError",
     "evalue": "name 'pd' is not defined",
     "output_type": "error",
     "traceback": [
      "\u001b[0;31m---------------------------------------------------------------------------\u001b[0m",
      "\u001b[0;31mNameError\u001b[0m                                 Traceback (most recent call last)",
      "Cell \u001b[0;32mIn[2], line 1\u001b[0m\n\u001b[0;32m----> 1\u001b[0m daily_price_df \u001b[39m=\u001b[39m pd\u001b[39m.\u001b[39mread_excel(\u001b[39m'\u001b[39m\u001b[39mice_electric-2022final.xlsx\u001b[39m\u001b[39m'\u001b[39m)\n\u001b[1;32m      2\u001b[0m \u001b[39mfor\u001b[39;00m hub \u001b[39min\u001b[39;00m daily_price_df[\u001b[39m'\u001b[39m\u001b[39mPrice hub\u001b[39m\u001b[39m'\u001b[39m]\u001b[39m.\u001b[39munique():\n\u001b[1;32m      3\u001b[0m     \u001b[39mprint\u001b[39m(hub \u001b[39m+\u001b[39m \u001b[39m'\u001b[39m\u001b[39m:\u001b[39m\u001b[39m'\u001b[39m)\n",
      "\u001b[0;31mNameError\u001b[0m: name 'pd' is not defined"
     ]
    }
   ],
   "source": [
    "daily_price_df = pd.read_excel('ice_electric-2022final.xlsx')\n",
    "for hub in daily_price_df['Price hub'].unique():\n",
    "    print(hub + ':')\n",
    "    print(len(daily_price_df[daily_price_df['Price hub'] == hub]))\n",
    "# print(len(daily_price_df[daily_price_df['Price hub'] == '']))\n",
    "daily_price_df.head()"
   ]
  },
  {
   "cell_type": "code",
   "execution_count": null,
   "id": "94b11333",
   "metadata": {},
   "outputs": [
    {
     "name": "stdout",
     "output_type": "stream",
     "text": [
      "1237\n"
     ]
    },
    {
     "data": {
      "text/plain": [
       "Price hub\n",
       "Indiana Hub RT Peak         2.437500\n",
       "Mid C Peak                 44.291139\n",
       "NP15 EZ Gen DA LMP Peak     4.671642\n",
       "Nepool MH DA LMP Peak      12.748744\n",
       "PJM WH Real Time Peak      15.555085\n",
       "Palo Verde Peak            10.713080\n",
       "SP15 EZ Gen DA LMP Peak    21.528384\n",
       "Name: Number of trades, dtype: float64"
      ]
     },
     "execution_count": 20,
     "metadata": {},
     "output_type": "execute_result"
    }
   ],
   "source": [
    "print(len(daily_price_df))\n",
    "daily_price_df.groupby('Price hub')['Number of trades'].mean()"
   ]
  },
  {
   "cell_type": "code",
   "execution_count": null,
   "id": "27ca3b7b",
   "metadata": {},
   "outputs": [
    {
     "data": {
      "text/html": [
       "<div>\n",
       "<style scoped>\n",
       "    .dataframe tbody tr th:only-of-type {\n",
       "        vertical-align: middle;\n",
       "    }\n",
       "\n",
       "    .dataframe tbody tr th {\n",
       "        vertical-align: top;\n",
       "    }\n",
       "\n",
       "    .dataframe thead th {\n",
       "        text-align: right;\n",
       "    }\n",
       "</style>\n",
       "<table border=\"1\" class=\"dataframe\">\n",
       "  <thead>\n",
       "    <tr style=\"text-align: right;\">\n",
       "      <th></th>\n",
       "      <th>Price hub</th>\n",
       "      <th>Trade date</th>\n",
       "      <th>Delivery start date</th>\n",
       "      <th>Delivery \\nend date</th>\n",
       "      <th>High price $/MWh</th>\n",
       "      <th>Low price $/MWh</th>\n",
       "      <th>Wtd avg price $/MWh</th>\n",
       "      <th>Change</th>\n",
       "      <th>Daily volume MWh</th>\n",
       "      <th>Number of trades</th>\n",
       "      <th>Number of counterparties</th>\n",
       "    </tr>\n",
       "  </thead>\n",
       "  <tbody>\n",
       "    <tr>\n",
       "      <th>32</th>\n",
       "      <td>Mid C Peak</td>\n",
       "      <td>2021-12-29 00:00:00</td>\n",
       "      <td>2021-12-30</td>\n",
       "      <td>2021-12-31</td>\n",
       "      <td>68.0</td>\n",
       "      <td>65.0</td>\n",
       "      <td>65.93</td>\n",
       "      <td>-29.49</td>\n",
       "      <td>18400</td>\n",
       "      <td>23</td>\n",
       "      <td>13</td>\n",
       "    </tr>\n",
       "    <tr>\n",
       "      <th>37</th>\n",
       "      <td>Mid C Peak</td>\n",
       "      <td>2022-01-06 00:00:00</td>\n",
       "      <td>2022-01-07</td>\n",
       "      <td>2022-01-08</td>\n",
       "      <td>37.0</td>\n",
       "      <td>36.0</td>\n",
       "      <td>36.47</td>\n",
       "      <td>-11.92</td>\n",
       "      <td>17600</td>\n",
       "      <td>22</td>\n",
       "      <td>10</td>\n",
       "    </tr>\n",
       "    <tr>\n",
       "      <th>41</th>\n",
       "      <td>Mid C Peak</td>\n",
       "      <td>2022-01-12 00:00:00</td>\n",
       "      <td>2022-01-13</td>\n",
       "      <td>2022-01-14</td>\n",
       "      <td>39.0</td>\n",
       "      <td>36.5</td>\n",
       "      <td>38.37</td>\n",
       "      <td>-0.82</td>\n",
       "      <td>31200</td>\n",
       "      <td>39</td>\n",
       "      <td>13</td>\n",
       "    </tr>\n",
       "    <tr>\n",
       "      <th>43</th>\n",
       "      <td>Mid C Peak</td>\n",
       "      <td>2022-01-14 00:00:00</td>\n",
       "      <td>2022-01-17</td>\n",
       "      <td>2022-01-18</td>\n",
       "      <td>39.5</td>\n",
       "      <td>38.0</td>\n",
       "      <td>38.87</td>\n",
       "      <td>1.33</td>\n",
       "      <td>36000</td>\n",
       "      <td>44</td>\n",
       "      <td>13</td>\n",
       "    </tr>\n",
       "    <tr>\n",
       "      <th>46</th>\n",
       "      <td>Mid C Peak</td>\n",
       "      <td>2022-01-20 00:00:00</td>\n",
       "      <td>2022-01-21</td>\n",
       "      <td>2022-01-22</td>\n",
       "      <td>39.0</td>\n",
       "      <td>35.0</td>\n",
       "      <td>36.73</td>\n",
       "      <td>8.73</td>\n",
       "      <td>30400</td>\n",
       "      <td>35</td>\n",
       "      <td>10</td>\n",
       "    </tr>\n",
       "    <tr>\n",
       "      <th>...</th>\n",
       "      <td>...</td>\n",
       "      <td>...</td>\n",
       "      <td>...</td>\n",
       "      <td>...</td>\n",
       "      <td>...</td>\n",
       "      <td>...</td>\n",
       "      <td>...</td>\n",
       "      <td>...</td>\n",
       "      <td>...</td>\n",
       "      <td>...</td>\n",
       "      <td>...</td>\n",
       "    </tr>\n",
       "    <tr>\n",
       "      <th>1220</th>\n",
       "      <td>SP15 EZ Gen DA LMP Peak</td>\n",
       "      <td>2022-12-01 00:00:00</td>\n",
       "      <td>2022-12-02</td>\n",
       "      <td>2022-12-03</td>\n",
       "      <td>175.0</td>\n",
       "      <td>168.0</td>\n",
       "      <td>171.36</td>\n",
       "      <td>-5.73</td>\n",
       "      <td>8800</td>\n",
       "      <td>10</td>\n",
       "      <td>9</td>\n",
       "    </tr>\n",
       "    <tr>\n",
       "      <th>1225</th>\n",
       "      <td>SP15 EZ Gen DA LMP Peak</td>\n",
       "      <td>2022-12-08 00:00:00</td>\n",
       "      <td>2022-12-09</td>\n",
       "      <td>2022-12-10</td>\n",
       "      <td>265.0</td>\n",
       "      <td>225.0</td>\n",
       "      <td>254.38</td>\n",
       "      <td>72.56</td>\n",
       "      <td>6400</td>\n",
       "      <td>8</td>\n",
       "      <td>9</td>\n",
       "    </tr>\n",
       "    <tr>\n",
       "      <th>1230</th>\n",
       "      <td>SP15 EZ Gen DA LMP Peak</td>\n",
       "      <td>2022-12-15 00:00:00</td>\n",
       "      <td>2022-12-16</td>\n",
       "      <td>2022-12-17</td>\n",
       "      <td>290.0</td>\n",
       "      <td>260.0</td>\n",
       "      <td>279.53</td>\n",
       "      <td>30.17</td>\n",
       "      <td>12000</td>\n",
       "      <td>15</td>\n",
       "      <td>14</td>\n",
       "    </tr>\n",
       "    <tr>\n",
       "      <th>1233</th>\n",
       "      <td>SP15 EZ Gen DA LMP Peak</td>\n",
       "      <td>2022-12-20 00:00:00</td>\n",
       "      <td>2022-12-21</td>\n",
       "      <td>2022-12-22</td>\n",
       "      <td>285.0</td>\n",
       "      <td>265.0</td>\n",
       "      <td>277.38</td>\n",
       "      <td>-42.72</td>\n",
       "      <td>12800</td>\n",
       "      <td>12</td>\n",
       "      <td>13</td>\n",
       "    </tr>\n",
       "    <tr>\n",
       "      <th>1234</th>\n",
       "      <td>SP15 EZ Gen DA LMP Peak</td>\n",
       "      <td>2022-12-21 00:00:00</td>\n",
       "      <td>2022-12-23</td>\n",
       "      <td>2022-12-24</td>\n",
       "      <td>425.0</td>\n",
       "      <td>335.0</td>\n",
       "      <td>365.77</td>\n",
       "      <td>88.39</td>\n",
       "      <td>10400</td>\n",
       "      <td>13</td>\n",
       "      <td>9</td>\n",
       "    </tr>\n",
       "  </tbody>\n",
       "</table>\n",
       "<p>188 rows × 11 columns</p>\n",
       "</div>"
      ],
      "text/plain": [
       "                    Price hub           Trade date Delivery start date  \\\n",
       "32                 Mid C Peak  2021-12-29 00:00:00          2021-12-30   \n",
       "37                 Mid C Peak  2022-01-06 00:00:00          2022-01-07   \n",
       "41                 Mid C Peak  2022-01-12 00:00:00          2022-01-13   \n",
       "43                 Mid C Peak  2022-01-14 00:00:00          2022-01-17   \n",
       "46                 Mid C Peak  2022-01-20 00:00:00          2022-01-21   \n",
       "...                       ...                  ...                 ...   \n",
       "1220  SP15 EZ Gen DA LMP Peak  2022-12-01 00:00:00          2022-12-02   \n",
       "1225  SP15 EZ Gen DA LMP Peak  2022-12-08 00:00:00          2022-12-09   \n",
       "1230  SP15 EZ Gen DA LMP Peak  2022-12-15 00:00:00          2022-12-16   \n",
       "1233  SP15 EZ Gen DA LMP Peak  2022-12-20 00:00:00          2022-12-21   \n",
       "1234  SP15 EZ Gen DA LMP Peak  2022-12-21 00:00:00          2022-12-23   \n",
       "\n",
       "     Delivery \\nend date  High price $/MWh  Low price $/MWh  \\\n",
       "32            2021-12-31              68.0             65.0   \n",
       "37            2022-01-08              37.0             36.0   \n",
       "41            2022-01-14              39.0             36.5   \n",
       "43            2022-01-18              39.5             38.0   \n",
       "46            2022-01-22              39.0             35.0   \n",
       "...                  ...               ...              ...   \n",
       "1220          2022-12-03             175.0            168.0   \n",
       "1225          2022-12-10             265.0            225.0   \n",
       "1230          2022-12-17             290.0            260.0   \n",
       "1233          2022-12-22             285.0            265.0   \n",
       "1234          2022-12-24             425.0            335.0   \n",
       "\n",
       "      Wtd avg price $/MWh  Change  Daily volume MWh  Number of trades  \\\n",
       "32                  65.93  -29.49             18400                23   \n",
       "37                  36.47  -11.92             17600                22   \n",
       "41                  38.37   -0.82             31200                39   \n",
       "43                  38.87    1.33             36000                44   \n",
       "46                  36.73    8.73             30400                35   \n",
       "...                   ...     ...               ...               ...   \n",
       "1220               171.36   -5.73              8800                10   \n",
       "1225               254.38   72.56              6400                 8   \n",
       "1230               279.53   30.17             12000                15   \n",
       "1233               277.38  -42.72             12800                12   \n",
       "1234               365.77   88.39             10400                13   \n",
       "\n",
       "      Number of counterparties  \n",
       "32                          13  \n",
       "37                          10  \n",
       "41                          13  \n",
       "43                          13  \n",
       "46                          10  \n",
       "...                        ...  \n",
       "1220                         9  \n",
       "1225                         9  \n",
       "1230                        14  \n",
       "1233                        13  \n",
       "1234                         9  \n",
       "\n",
       "[188 rows x 11 columns]"
      ]
     },
     "execution_count": 11,
     "metadata": {},
     "output_type": "execute_result"
    }
   ],
   "source": [
    "daily_price_df[daily_price_df['Price hub'] == 'Indiana Hub RT Peak']\n",
    "daily_price_df[daily_price_df['Delivery start date'] != daily_price_df['Delivery \\nend date']]"
   ]
  },
  {
   "cell_type": "code",
   "execution_count": null,
   "id": "cfd95b47",
   "metadata": {},
   "outputs": [],
   "source": [
    "daily_price_df['Trade date'] = pd.to_datetime(daily_price_df['Trade date'], errors='coerce')"
   ]
  },
  {
   "cell_type": "code",
   "execution_count": null,
   "id": "27894b12",
   "metadata": {},
   "outputs": [
    {
     "data": {
      "text/plain": [
       "Index(['Price hub', 'Trade date', 'Delivery start date', 'Delivery \\nend date',\n",
       "       'High price $/MWh', 'Low price $/MWh', 'Wtd avg price $/MWh', 'Change',\n",
       "       'Daily volume MWh', 'Number of trades', 'Number of counterparties'],\n",
       "      dtype='object')"
      ]
     },
     "execution_count": 23,
     "metadata": {},
     "output_type": "execute_result"
    }
   ],
   "source": [
    "daily_2023.columns"
   ]
  },
  {
   "cell_type": "code",
   "execution_count": 22,
   "id": "9d776824",
   "metadata": {},
   "outputs": [
    {
     "name": "stdout",
     "output_type": "stream",
     "text": [
      "Indiana Hub RT Peak:\n",
      "38\n",
      "Mid C Peak:\n",
      "209\n",
      "Nepool MH DA LMP Peak:\n",
      "175\n",
      "NP15 EZ Gen DA LMP Peak:\n",
      "85\n",
      "Palo Verde Peak:\n",
      "208\n",
      "PJM WH Real Time Peak:\n",
      "211\n",
      "SP15 EZ Gen DA LMP Peak:\n",
      "202\n"
     ]
    }
   ],
   "source": [
    "daily_2023 = pd.read_excel('ice_electric-2023.xlsx')\n",
    "len(daily_2023)\n",
    "daily_2023.columns.tolist()\n",
    "for hub in daily_2023['Price hub'].unique():\n",
    "    print(hub + ':')\n",
    "    print(len(daily_2023[daily_2023['Price hub'] == hub]))"
   ]
  },
  {
   "cell_type": "code",
   "execution_count": 26,
   "id": "0c608a75",
   "metadata": {},
   "outputs": [
    {
     "name": "stderr",
     "output_type": "stream",
     "text": [
      "No artists with labels found to put in legend.  Note that artists whose label start with an underscore are ignored when legend() is called with no argument.\n"
     ]
    },
    {
     "data": {
      "image/png": "[encoded data removed]",
      "text/plain": [
       "<Figure size 640x480 with 1 Axes>"
      ]
     },
     "metadata": {},
     "output_type": "display_data"
    }
   ],
   "source": [
    "most_traded = daily_2023[daily_2023['Price hub'] == 'PJM WH Real Time Peak']\n",
    "plt.plot(most_traded['Trade date'], most_traded['Low price $/MWh'])\n",
    "plt.title('Daily Low Prices for \"PJM WH Real Time Peak\" - 2023')\n",
    "plt.xlabel('Date')\n",
    "plt.ylabel('Low Price ($/MWh)')\n",
    "plt.legend()\n",
    "plt.grid(True)\n",
    "plt.xticks(rotation=45)  # Rotate the x-axis labels for better readability\n",
    "plt.tight_layout()  # Adjust the plot to ensure everything fits without overlapping\n",
    "plt.show()"
   ]
  },
  {
   "cell_type": "code",
   "execution_count": 33,
   "id": "8866359c",
   "metadata": {},
   "outputs": [],
   "source": [
    "# daily_2023['Trade date'] = pd.to_datetime(daily_2023['Trade date'], errors='coerce')\n",
    "# unique_hubs = daily_2023['Price hub'].unique()\n",
    "\n",
    "# # Create a figure with subplots\n",
    "# fig, axs = plt.subplots(len(unique_hubs), 1, figsize=(14, 5 * len(unique_hubs)), squeeze=False)\n",
    "\n",
    "# # Plot each 'Price hub'\n",
    "# for i, hub in enumerate(unique_hubs):\n",
    "#     hub_daily_2023 = daily_2023[daily_2023['Price hub'] == hub].sort_values('Trade date')\n",
    "#     axs[i, 0].plot(hub_daily_2023['Trade date'], hub_daily_2023['Low price $/MWh'], label=f'{hub} Low Price $/MWh')\n",
    "#     axs[i, 0].set_title(f'Daily Low Prices for \"{hub}\" - 2023')\n",
    "#     axs[i, 0].set_xlabel('Date')\n",
    "#     axs[i, 0].set_ylabel('Low Price ($/MWh)')\n",
    "#     axs[i, 0].legend()\n",
    "#     axs[i, 0].grid(True)\n",
    "#     for label in axs[i, 0].get_xticklabels():\n",
    "#         label.set_rotation(45)\n",
    "\n",
    "# # Adjust the layout so that labels do not overlap\n",
    "# plt.tight_layout()\n",
    "# plt.show()"
   ]
  },
  {
   "cell_type": "code",
   "execution_count": 40,
   "id": "5fb3d1af",
   "metadata": {},
   "outputs": [
    {
     "name": "stderr",
     "output_type": "stream",
     "text": [
      "/var/folders/j2/0xw6vb056bvb760cjp387cf80000gn/T/ipykernel_16956/1188995893.py:1: DtypeWarning: Columns (4) have mixed types. Specify dtype option on import or set low_memory=False.\n",
      "  ice_data = pd.read_csv('MES072023.csv', encoding='ISO-8859-1')\n"
     ]
    }
   ],
   "source": [
    "ice_data = pd.read_csv('MES072023.csv', encoding='ISO-8859-1')\n",
    "ice_data = ice_data.iloc[30:]"
   ]
  },
  {
   "cell_type": "code",
   "execution_count": 89,
   "id": "d46d6be4",
   "metadata": {},
   "outputs": [
    {
     "data": {
      "text/html": [
       "<div>\n",
       "<style scoped>\n",
       "    .dataframe tbody tr th:only-of-type {\n",
       "        vertical-align: middle;\n",
       "    }\n",
       "\n",
       "    .dataframe tbody tr th {\n",
       "        vertical-align: top;\n",
       "    }\n",
       "\n",
       "    .dataframe thead th {\n",
       "        text-align: right;\n",
       "    }\n",
       "</style>\n",
       "<table border=\"1\" class=\"dataframe\">\n",
       "  <thead>\n",
       "    <tr style=\"text-align: right;\">\n",
       "      <th></th>\n",
       "      <th>date</th>\n",
       "      <th>demand</th>\n",
       "    </tr>\n",
       "  </thead>\n",
       "  <tbody>\n",
       "    <tr>\n",
       "      <th>0</th>\n",
       "      <td>2020-03-26 15:00:00</td>\n",
       "      <td>1313</td>\n",
       "    </tr>\n",
       "    <tr>\n",
       "      <th>1</th>\n",
       "      <td>2020-03-26 14:45:00</td>\n",
       "      <td>1317</td>\n",
       "    </tr>\n",
       "    <tr>\n",
       "      <th>2</th>\n",
       "      <td>2020-03-26 14:30:00</td>\n",
       "      <td>1328</td>\n",
       "    </tr>\n",
       "    <tr>\n",
       "      <th>3</th>\n",
       "      <td>2020-03-26 14:15:00</td>\n",
       "      <td>1324</td>\n",
       "    </tr>\n",
       "    <tr>\n",
       "      <th>4</th>\n",
       "      <td>2020-03-26 14:00:00</td>\n",
       "      <td>1324</td>\n",
       "    </tr>\n",
       "  </tbody>\n",
       "</table>\n",
       "</div>"
      ],
      "text/plain": [
       "                 date  demand\n",
       "0 2020-03-26 15:00:00    1313\n",
       "1 2020-03-26 14:45:00    1317\n",
       "2 2020-03-26 14:30:00    1328\n",
       "3 2020-03-26 14:15:00    1324\n",
       "4 2020-03-26 14:00:00    1324"
      ]
     },
     "execution_count": 89,
     "metadata": {},
     "output_type": "execute_result"
    }
   ],
   "source": [
    "city_hall = pd.read_csv('tmpq6k6kydy.csv')\n",
    "# print(city_hall.columns)\n",
    "type(city_hall['DateTime_Measured'][0])\n",
    "city_hall.head()\n",
    "city_hall.isna().any()\n",
    "city_hall = city_hall.rename(columns = {'DateTime_Measured': 'date', 'Total_Demand_KW': 'demand'})\n",
    "city_hall['date'] = pd.to_datetime(city_hall['date'])\n",
    "city_hall.head()"
   ]
  },
  {
   "cell_type": "code",
   "execution_count": 94,
   "id": "33f81f47",
   "metadata": {},
   "outputs": [
    {
     "data": {
      "text/plain": [
       "91"
      ]
     },
     "execution_count": 94,
     "metadata": {},
     "output_type": "execute_result"
    },
    {
     "data": {
      "image/png": "[encoded data removed]",
      "text/plain": [
       "<Figure size 640x480 with 1 Axes>"
      ]
     },
     "metadata": {},
     "output_type": "display_data"
    }
   ],
   "source": [
    "city_hall_daily = city_hall.resample('D', on='date').sum()\n",
    "len(city_hall_daily)\n",
    "plt.hist(city_hall_daily['demand'])\n",
    "len(city_hall_daily[city_hall_daily['demand'] == 0])"
   ]
  },
  {
   "cell_type": "code",
   "execution_count": 64,
   "id": "39fbae01",
   "metadata": {},
   "outputs": [
    {
     "data": {
      "text/plain": [
       "1"
      ]
     },
     "execution_count": 64,
     "metadata": {},
     "output_type": "execute_result"
    }
   ],
   "source": [
    "boston_weather = pd.read_csv('boston_weather_data.csv')\n",
    "boston_weather.head()\n",
    "len(boston_weather)\n",
    "boston_weather.drop(columns = ['wdir']).isna().any(axis = 1).sum()"
   ]
  },
  {
   "cell_type": "code",
   "execution_count": 84,
   "id": "c24d6368",
   "metadata": {},
   "outputs": [
    {
     "data": {
      "text/plain": [
       "time      0\n",
       "tavg      0\n",
       "tmin      0\n",
       "tmax      0\n",
       "prcp      0\n",
       "wdir    146\n",
       "wspd      0\n",
       "pres     80\n",
       "year      0\n",
       "dtype: int64"
      ]
     },
     "execution_count": 84,
     "metadata": {},
     "output_type": "execute_result"
    }
   ],
   "source": [
    "boston_weather['year'] = boston_weather['time'].str[:4].astype(int)\n",
    "# boston_weather['year'] = int(boston_weather['year'])\n",
    "boston_weather_restricted = boston_weather[(boston_weather['year'] >= 2016) & (boston_weather['year'] <= 2020)]\n",
    "boston_weather_restricted.isna().sum()"
   ]
  },
  {
   "cell_type": "code",
   "execution_count": 85,
   "id": "7cb1e90e",
   "metadata": {},
   "outputs": [
    {
     "data": {
      "text/plain": [
       "111"
      ]
     },
     "execution_count": 85,
     "metadata": {},
     "output_type": "execute_result"
    }
   ],
   "source": [
    "storm_data = pd.read_csv('storm_data_search_results.csv')\n",
    "len(storm_data)"
   ]
  }
 ],
 "metadata": {
  "kernelspec": {
   "display_name": "Python 3 (ipykernel)",
   "language": "python",
   "name": "python3"
  },
  "language_info": {
   "codemirror_mode": {
    "name": "ipython",
    "version": 3
   },
   "file_extension": ".py",
   "mimetype": "text/x-python",
   "name": "python",
   "nbconvert_exporter": "python",
   "pygments_lexer": "ipython3",
   "version": "3.10.9"
  },
  "vscode": {
   "interpreter": {
    "hash": "b0fa6594d8f4cbf19f97940f81e996739fb7646882a419484c72d19e05852a7e"
   }
  }
 },
 "nbformat": 4,
 "nbformat_minor": 5
}
