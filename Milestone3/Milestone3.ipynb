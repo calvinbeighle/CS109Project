{
 "cells": [
  {
   "cell_type": "code",
   "execution_count": null,
   "id": "39f06b86",
   "metadata": {
    "deletable": false,
    "editable": false
   },
   "outputs": [],
   "source": [
    "# Initialize Otter\n",
    "import otter\n",
    "grader = otter.Notebook(\"cs109a_hw4.ipynb\")"
   ]
  },
  {
   "cell_type": "markdown",
   "id": "8a0717bc",
   "metadata": {
    "tags": []
   },
   "source": [
    "# <img style=\"float: left; padding-right: 10px; width: 45px\" src=\"https://raw.githubusercontent.com/Harvard-IACS/2018-CS109A/master/content/styles/iacs.png\"> CS109A Introduction to Data Science\n",
    "\n",
    "## Milestone 3 - Saturn: EDA, Adjusted project plan and Set Goals\n",
    "\n",
    "**Harvard University**<br/>\n",
    "**Fall 2023**<br/>\n",
    "\n",
    "**Watt\\'s up with the Weather?** _Correlating City Hall's Electricity Consumption with Weather Patterns_ <br/>\n",
    "\n",
    "**Group 34:** Robert Escudero, Sean McCabe, Yoona Kim, Lachlain McGranahan, and Calvin Beighle<br/>\n",
    "\n",
    "**Instructors**: Pavlos Protopapas & Kevin Rader\n",
    "\n",
    "---"
   ]
  },
  {
   "cell_type": "code",
   "execution_count": 1,
   "id": "47a7cd0e",
   "metadata": {},
   "outputs": [
    {
     "data": {
      "text/html": [
       "<style>\n",
       "blockquote { background: #AEDE94; }\n",
       "h1 {\n",
       "    padding-top: 25px;\n",
       "    padding-bottom: 25px;\n",
       "    text-align: left;\n",
       "    padding-left: 10px;\n",
       "    background-color: #63ACBE;\n",
       "    color: black;\n",
       "}\n",
       "h2 {\n",
       "    padding-top: 10px;\n",
       "    padding-bottom: 10px;\n",
       "    text-align: left;\n",
       "    padding-left: 5px;\n",
       "    background-color: #EEEEEE;\n",
       "    color: black;\n",
       "}\n",
       "\n",
       "div.exercise {\n",
       "\tbackground-color: #f8b4ab;\n",
       "\tborder-color: #E9967A;\n",
       "\tborder-left: 5px solid #601A4A;\n",
       "\tpadding: 0.5em;\n",
       "}\n",
       "\n",
       "div.exercise-r {\n",
       "\tbackground-color: #ffd0d0;\n",
       "\tborder-color: #E9967A;\n",
       "\tborder-left: 5px solid #601A4A;\n",
       "\tpadding: 0.5em;\n",
       "}\n",
       "\n",
       "\n",
       "span.sub-q {\n",
       "\tfont-weight: bold;\n",
       "}\n",
       "div.theme {\n",
       "\tbackground-color: #63ACBE;\n",
       "\tborder-color: #E9967A;\n",
       "\tborder-left: 5px solid #601A4A;\n",
       "\tpadding: 0.5em;\n",
       "\tfont-size: 18pt;\n",
       "}\n",
       "div.gc {\n",
       "\tbackground-color: #AEDE94;\n",
       "\tborder-color: #E9967A;\n",
       "\tborder-left: 5px solid #601A4A;\n",
       "\tpadding: 0.5em;\n",
       "\tfont-size: 12pt;\n",
       "}\n",
       "p.q1 {\n",
       "    padding-top: 5px;\n",
       "    padding-bottom: 5px;\n",
       "    text-align: left;\n",
       "    padding-left: 5px;\n",
       "    background-color: #EEEEEE;\n",
       "    color: black;\n",
       "}\n",
       "header {\n",
       "   padding-top: 35px;\n",
       "    padding-bottom: 35px;\n",
       "    text-align: left;\n",
       "    padding-left: 10px;\n",
       "    background-color: #DDDDDD;\n",
       "    color: black;\n",
       "}\n",
       "span.emph {\n",
       "\tcolor: #601A4A;\n",
       "\tfont-weight: bold;\n",
       "}\n",
       "\n",
       "</style>\n"
      ],
      "text/plain": [
       "<IPython.core.display.HTML object>"
      ]
     },
     "execution_count": 1,
     "metadata": {},
     "output_type": "execute_result"
    }
   ],
   "source": [
    "# RUN THIS CELL \n",
    "import requests\n",
    "from IPython.core.display import HTML\n",
    "styles = requests.get(\n",
    "    \"https://raw.githubusercontent.com/Harvard-IACS/2021-CS109A/master/\"\n",
    "    \"themes/static/css/cs109.css\"\n",
    ").text\n",
    "HTML(styles)"
   ]
  },
  {
   "cell_type": "markdown",
   "id": "ef0e34cc-1d70-45d5-96a5-337abe6f028c",
   "metadata": {},
   "source": [
    "#### Instructions for Milestone 3\n",
    "- Summary of the Data: The EDA report should begin with a brief summary of the data. This summary should include information such as the shape of the data, data types, and descriptive statistics such as mean, max, and dtypes. Additionally, you should provide a summary of the features of the data, including histograms, correlation plots, and clustering plots.\n",
    "\n",
    "- Deeper Understanding of the Data: While basic EDA is important, you should aim to provide a deeper understanding of the data through your analysis. This can be achieved by identifying patterns, trends, class imbalances, and outliers in the data. Additionally, explore the relationships between variables and identify any potential confounding variables that may impact the analysis.\n",
    "\n",
    "- Meaningful Insights: The EDA report should provide meaningful insights that can be connected back to the problem at hand. These insights should be well-supported by the data and provide actionable recommendations for addressing the problem. You should focus on providing insights that are relevant to the project question and will add value to the final analysis.\n",
    "\n",
    "- Clean and Labeled Visualization: Visualization is an important component of EDA and should be clean, labeled, and well-presented. You need to ensure that your visualizations are easy to understand and can be included in their final presentation slides or report. Anyone that reads your EDA should be able to understand what is depicted in the plots just by looking at them.\n",
    "\n",
    "- Data Description: You should provide a detailed description of the data for your project. This should include information about the data source, the data collection process, and any preprocessing steps that were taken. Additionally, you should describe the methods you used to explore the data, including initial explorations, data cleaning, and reconciliation.\n",
    "\n",
    "- Noteworthy Findings: Summarize the noteworthy findings of their EDA in a clear and concise manner. This can be achieved through the use of visualizations and captions that highlight the most important insights gained through the analysis.\n",
    "\n",
    "- Project Question: Based on the insights gained through EDA, you should develop a clear project question that will guide your analysis. This question should be well-defined and specific to the problem at hand.\n",
    "\n",
    "- Baseline Model or Implementation Plan: Finally, you should include a baseline model or a clear plan for its implementation. This can include details on the model architecture, the data used for training and validation, and the evaluation metrics used to assess model performance.\n",
    "\n",
    "- **You should do a \"Restart Kernel and Run All Cells\" before submitting to ensure (1) your notebook actually runs and (2) all output is visible**"
   ]
  },
  {
   "cell_type": "markdown",
   "id": "fab019c4",
   "metadata": {
    "cell_id": "3c67b69c-c35a-45ee-88ff-99c701edb0a0",
    "colab_type": "text",
    "id": "BlViDCbxVtbG"
   },
   "source": [
    "### Import Libraries"
   ]
  },
  {
   "cell_type": "code",
   "execution_count": null,
   "id": "cf2020ac",
   "metadata": {},
   "outputs": [],
   "source": [
    "# Import libraries\n",
    "import seaborn as sns\n",
    "import matplotlib.pyplot as plt\n",
    "import pandas as pd\n",
    "import numpy as np\n",
    "from sklearn.model_selection import train_test_split\n",
    "from sklearn.linear_model import LinearRegression\n",
    "from sklearn.neighbors import KNeighborsRegressor\n",
    "from sklearn.decomposition import PCA\n",
    "from sklearn.model_selection import cross_validate\n",
    "from sklearn.preprocessing import StandardScaler\n",
    "from sklearn.metrics import r2_score\n",
    "from sklearn.impute import SimpleImputer, KNNImputer\n",
    "\n",
    "# pandas tricks for better display\n",
    "pd.options.display.max_columns = 50  \n",
    "pd.options.display.max_rows = 500     \n",
    "pd.options.display.max_colwidth = 100\n",
    "pd.options.display.precision = 3"
   ]
  },
  {
   "cell_type": "code",
   "execution_count": null,
   "metadata": {},
   "outputs": [],
   "source": []
  }
 ],
 "metadata": {
  "interpreter": {
   "hash": "aee8b7b246df8f9039afb4144a1f6fd8d2ca17a180786b69acc140d282b71a49"
  },
  "kernelspec": {
   "display_name": "Python 3 (ipykernel)",
   "language": "python",
   "name": "python3"
  },
  "language_info": {
   "codemirror_mode": {
    "name": "ipython",
    "version": 3
   },
   "file_extension": ".py",
   "mimetype": "text/x-python",
   "name": "python",
   "nbconvert_exporter": "python",
   "pygments_lexer": "ipython3",
   "version": "3.11.5"
  },
  "otter": {
   "OK_FORMAT": true,
   "tests": {
    "q1.1": {
     "name": "q1.1",
     "points": 6,
     "suites": [
      {
       "cases": [
        {
         "code": ">>> assert type(high_corr) == dict and len(high_corr) == 9,\\\n... \"high_corr should be a dict with 9 entries\"\n",
         "hidden": false,
         "locked": false,
         "points": 1
        },
        {
         "code": ">>> assert all([isinstance(k, tuple) and len(k) == 2 and isinstance(k[0], str) and isinstance(k[1], str) for k in high_corr.keys()]),\\\n...     \"All keys in high_corr should be tuples of two strings.\"\n",
         "hidden": false,
         "locked": false,
         "points": 1
        },
        {
         "code": ">>> assert all([isinstance(v, (float, np.float_)) and v >= -1 and v <= 1 for v in high_corr.values()]),\\\n...         \"All values in high_corr should be floats between -1 and 1 (inclusive).\"\n",
         "hidden": false,
         "locked": false,
         "points": 1
        },
        {
         "code": ">>> \n>>> # HIDDEN\n>>> def test_high_corr():\n...     # Step 1: Use a fixed dataset to compute the expected high_corr dictionary.\n...     # (For simplicity, I'm using the same logic as the solution here. In practice, you might use a smaller fixed dataset.)\n...     col_names_test = X_train.columns\n...     df_corr_test = X_train.corr()\n...     itemindex_test = np.where((df_corr_test > 0.99) | (df_corr_test < -0.99))\n...     expected_high_corr = {(col_names_test[i],col_names_test[j]): df_corr_test.iloc[i,j] for (i,j) in zip(itemindex_test[0], itemindex_test[1]) if i > j}\n...     \n...     # Step 2: Compare the student's high_corr dictionary to the expected dictionary.\n...     # assert set(high_corr.keys()) == set(expected_high_corr.keys()), \"The keys in your high_corr dictionary do not match the expected keys.\"\n...     assert len(high_corr.keys()) == len(expected_high_corr.keys()), \"You don't have the same number of keys in the dictionary as you should.\"\n>>> \n>>> test_high_corr()\n",
         "hidden": false,
         "locked": false,
         "points": 3
        }
       ],
       "scored": true,
       "setup": "",
       "teardown": "",
       "type": "doctest"
      }
     ]
    },
    "q1.2": {
     "name": "q1.2",
     "points": 6,
     "suites": [
      {
       "cases": [
        {
         "code": ">>> assert linreg_train_r2 > 0.1 and linreg_train_r2 < 0.9,\\\n... \"The true linreg_train_r2 is between 0.1 and 0.9\"\n",
         "hidden": false,
         "locked": false,
         "points": 0.5
        },
        {
         "code": ">>> # HIDDEN\n>>> assert round(linreg_train_r2, 3) == 0.846 ,\\\n... \"The true linreg_train_r2 is ~0.846\"\n",
         "hidden": false,
         "locked": false,
         "points": 1
        },
        {
         "code": ">>> assert linreg_test_r2 > 0.1 and linreg_test_r2 < 0.9,\\\n... \"The true linreg_test_r2 is between 0.1 and 0.9\"\n",
         "hidden": false,
         "locked": false,
         "points": 0.5
        },
        {
         "code": ">>> assert round(linreg_test_r2, 3) == 0.219 ,\\\n... \"The true linreg_test_r2 is ~0.219\"\n",
         "hidden": false,
         "locked": false,
         "points": 1
        }
       ],
       "scored": true,
       "setup": "",
       "teardown": "",
       "type": "doctest"
      }
     ]
    },
    "q1.3.1": {
     "name": "q1.3.1",
     "points": 14,
     "suites": [
      {
       "cases": [
        {
         "code": ">>> assert best_k > 4 and best_k < 15,\\\n... \"The true best_k is between 4 and 15\"\n",
         "hidden": false,
         "locked": false,
         "points": 2
        },
        {
         "code": ">>> # HIDDEN\n>>> assert best_k == 8 ,\\\n... \"The true best_k is 8\"\n",
         "hidden": false,
         "locked": false,
         "points": 2
        }
       ],
       "scored": true,
       "setup": "",
       "teardown": "",
       "type": "doctest"
      }
     ]
    },
    "q1.3.2": {
     "name": "q1.3.2",
     "points": 6,
     "suites": [
      {
       "cases": [
        {
         "code": ">>> assert pcr_train_r2 > 0.2 and pcr_train_r2 < 0.8,\\\n... \"The true pcr_train_r2 is between 0.2 and 0.8\"\n",
         "hidden": false,
         "locked": false,
         "points": 1
        },
        {
         "code": ">>> # HIDDEN\n>>> assert round(pcr_train_r2, 3) == 0.638 ,\\\n... \"The true pcr_train_r2 is ~0.638\"\n",
         "hidden": false,
         "locked": false,
         "points": 2
        },
        {
         "code": ">>> assert pcr_test_r2 > 0.2 and pcr_test_r2 < 0.8,\\\n... \"The true pcr_test_r2 is between 0.2 and 0.8\"\n",
         "hidden": false,
         "locked": false,
         "points": 1
        },
        {
         "code": ">>> # HIDDEN\n>>> assert round(pcr_test_r2, 3) == 0.686 ,\\\n... \"The true pcr_test_r2 is ~0.686\"\n",
         "hidden": false,
         "locked": false,
         "points": 2
        }
       ],
       "scored": true,
       "setup": "",
       "teardown": "",
       "type": "doctest"
      }
     ]
    },
    "q2.1": {
     "name": "q2.1",
     "points": 2,
     "suites": [
      {
       "cases": [
        {
         "code": ">>> assert X_transformed.shape == (38, 2),\\\n... \"The transformed data should have shape (38, 2).\"\n",
         "hidden": false,
         "locked": false,
         "points": 0.5
        },
        {
         "code": ">>> assert np.isclose(X_transformed.mean(), 0),\\\n... \"The mean of the transformed data should be 0 (or very close given machine precision).\"\n",
         "hidden": false,
         "locked": false,
         "points": 0.5
        },
        {
         "code": ">>> # HIDDEN\n>>> def test_transformed():\n...     df = pd.read_csv(\"data/OECD_well-being.csv\", index_col = 0)\n...     country, X = df['Country'], df.drop(columns='Country').values\n...     scaler = StandardScaler()\n...     X_std= scaler.fit_transform(X)\n...     pca = PCA(n_components=2)\n...     X_transformed_sol = pca.fit_transform(X_std)\n...     assert np.allclose(X_transformed, X_transformed_sol),\\\n...     \"Transformed data is incorrect. It doesn't match the results in the solutions.\"\n",
         "hidden": false,
         "locked": false,
         "points": 1
        }
       ],
       "scored": true,
       "setup": "",
       "teardown": "",
       "type": "doctest"
      }
     ]
    },
    "q3.1": {
     "name": "q3.1",
     "points": 4,
     "suites": [
      {
       "cases": [
        {
         "code": ">>> def test_n_rows_with_missingness():\n...     assert isinstance(n_rows_with_missingness, (int, np.integer)), \"n_rows_with_missingness should be an integer\" \n...     assert n_rows_with_missingness >=0, \"n_rows_with_missingness should be non-negative\" \n>>> test_n_rows_with_missingness()\n",
         "hidden": false,
         "locked": false,
         "points": 0
        },
        {
         "code": ">>> # HIDDEN\n>>> assert n_rows_with_missingness == X_train.isna().max(axis=1).sum(),\\\n... \"n_rows_with_missingness is incorrect\"\n",
         "hidden": false,
         "locked": false,
         "points": 1
        },
        {
         "code": ">>> def test_n_cols_with_missingness():\n...     assert isinstance(n_cols_with_missingness, (int, np.integer)), \"n_cols_with_missingness should be an integer\" \n...     assert n_cols_with_missingness >=0, \"n_cols_with_missingness should be non-negative\" \n>>> test_n_cols_with_missingness()\n",
         "hidden": false,
         "locked": false,
         "points": 0
        },
        {
         "code": ">>> # HIDDEN\n>>> assert n_cols_with_missingness == X_train.isna().max(axis=0).sum(),\\\n... \"n_cols_with_missingness is incorrect\"\n",
         "hidden": false,
         "locked": false,
         "points": 1
        },
        {
         "code": ">>> def test_col_missingness():\n...     col_missingness_sol = X_train.isna().sum(axis=0)\n...     assert type(col_missingness) == pd.Series, \"col_missingness should be a Pandas Series object\"\n...     assert all([type(i) == str for i in col_missingness.index]), \"Indices of col_missingness should be strings (i.e., the column names)\"\n...     assert set(col_missingness.index) == set(X_train.columns), \"Indices of col_missingness should be the names of the X_train columns.\"\n...     assert all([np.issubdtype(v, np.integer) for v in col_missingness.values]), \"Values in col_missingness should be some type of integer\"\n>>> test_col_missingness()\n",
         "hidden": false,
         "locked": false,
         "points": 1
        },
        {
         "code": ">>> # HIDDEN\n>>> col_missingness_sol = X_train.isna().sum(axis=0)\n>>> assert pd.Series.equals(col_missingness[X_train.columns], col_missingness_sol),\\\n... \"You have the wrong numbers of missing values for the entries in your Series\"\n",
         "hidden": false,
         "locked": false,
         "points": 1
        }
       ],
       "scored": true,
       "setup": "",
       "teardown": "",
       "type": "doctest"
      }
     ]
    },
    "q4.1": {
     "name": "q4.1",
     "points": 12,
     "suites": [
      {
       "cases": [
        {
         "code": ">>> assert linreg_meanimp_r2 > 0.1 and linreg_meanimp_r2 < 0.2,\\\n... \"The true linreg_meanimp_r2 is between 0.1 and 0.2\"\n",
         "hidden": false,
         "locked": false,
         "points": 3
        },
        {
         "code": ">>> # HIDDEN\n>>> assert round(linreg_meanimp_r2, 3) == 0.189 ,\\\n... \"The true linreg_meanimp_r2 is ~0.189\"\n",
         "hidden": false,
         "locked": false,
         "points": 3
        },
        {
         "code": ">>> assert knn_meanimp_r2 > 0.35 and knn_meanimp_r2 < 0.45,\\\n... \"The true knn_meanimp_r2 is between 0.35 and 0.45\"\n",
         "hidden": false,
         "locked": false,
         "points": 3
        },
        {
         "code": ">>> # HIDDEN\n>>> assert round(knn_meanimp_r2, 3) == 0.401 ,\\\n... \"The true knn_meanimp_r2 is between 0.401\"\n",
         "hidden": false,
         "locked": false,
         "points": 3
        }
       ],
       "scored": true,
       "setup": "",
       "teardown": "",
       "type": "doctest"
      }
     ]
    },
    "q4.2": {
     "name": "q4.2",
     "points": 12,
     "suites": [
      {
       "cases": [
        {
         "code": ">>> assert linreg_knnimp_r2 > 0.2 and linreg_knnimp_r2 < 0.3,\\\n... \"The true linreg_knnimp_r2 is between 0.2 and 0.3\"\n",
         "hidden": false,
         "locked": false,
         "points": 3
        },
        {
         "code": ">>> # HIDDEN\n>>> assert round(linreg_knnimp_r2, 3) == 0.205 ,\\\n... \"The true linreg_knnimp_r2 is ~0.205\"\n",
         "hidden": false,
         "locked": false,
         "points": 3
        },
        {
         "code": ">>> assert knn_knnimp_r2 > 0.55 and knn_knnimp_r2 < 0.65,\\\n... \"The true knn_knnimp_r2 is between 0.55 and 0.65\"\n",
         "hidden": false,
         "locked": false,
         "points": 3
        },
        {
         "code": ">>> # HIDDEN\n>>> assert round(knn_knnimp_r2, 3) == 0.622 ,\\\n... \"The true knn_knnimp_r2 is between 0.622\"\n",
         "hidden": false,
         "locked": false,
         "points": 3
        }
       ],
       "scored": true,
       "setup": "",
       "teardown": "",
       "type": "doctest"
      }
     ]
    },
    "q4.3": {
     "name": "q4.3",
     "points": 12,
     "suites": [
      {
       "cases": [
        {
         "code": ">>> assert linreg_indic_r2 > 0.2 and linreg_indic_r2 < 0.5,\\\n... \"The true linreg_indic_r2 is between 0.2 and 0.5\"\n",
         "hidden": false,
         "locked": false,
         "points": 3
        },
        {
         "code": ">>> # HIDDEN\n>>> assert round(linreg_indic_r2, 3) == 0.395 ,\\\n... \"The true linreg_knnimp_r2 is ~0.395\"\n",
         "hidden": false,
         "locked": false,
         "points": 3
        },
        {
         "code": ">>> assert knn_indic_r2 > 0.55 and knn_indic_r2 < 0.75,\\\n... \"The true knn_indic_r2 is between 0.55 and 0.75\"\n",
         "hidden": false,
         "locked": false,
         "points": 3
        },
        {
         "code": ">>> # HIDDEN\n>>> assert round(knn_indic_r2, 3) == 0.653 ,\\\n... \"The true knn_indic_r2 is between ~0.653\"\n",
         "hidden": false,
         "locked": false,
         "points": 3
        }
       ],
       "scored": true,
       "setup": "",
       "teardown": "",
       "type": "doctest"
      }
     ]
    }
   }
  }
 },
 "nbformat": 4,
 "nbformat_minor": 5
}
